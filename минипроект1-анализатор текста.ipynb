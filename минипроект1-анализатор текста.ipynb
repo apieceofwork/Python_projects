{
  "nbformat": 4,
  "nbformat_minor": 0,
  "metadata": {
    "colab": {
      "name": "Untitled22.ipynb",
      "provenance": []
    },
    "kernelspec": {
      "name": "python3",
      "display_name": "Python 3"
    },
    "language_info": {
      "name": "python"
    }
  },
  "cells": [
    {
      "cell_type": "markdown",
      "source": [
        "# Мини-проект \"Анализатор текста\""
      ],
      "metadata": {
        "id": "PGJw1skxm57N"
      }
    },
    {
      "cell_type": "markdown",
      "source": [
        "1. Посчитать кол-во предложений в тексте\n",
        "2. Топ-10 популярных слов\n",
        "3. Доля личных местоимений в тексте"
      ],
      "metadata": {
        "id": "L1Up0FZG-gdF"
      }
    },
    {
      "cell_type": "markdown",
      "source": [
        "##Часть 1. Считаем количество предложений в тексте"
      ],
      "metadata": {
        "id": "QIn8SIONnD1W"
      }
    },
    {
      "cell_type": "markdown",
      "source": [
        "###Устанавливаем нужные пакеты и библиотеки"
      ],
      "metadata": {
        "id": "VtGGDPpEqh9Y"
      }
    },
    {
      "cell_type": "code",
      "source": [
        "!pip install textblob #установили саму библиотеку\n",
        "import nltk #natural language toolkit\n",
        "nltk.download('punkt') #download package to divide the text into sentences (list of sentences)"
      ],
      "metadata": {
        "colab": {
          "base_uri": "https://localhost:8080/"
        },
        "id": "ypwj2xm9bk9M",
        "outputId": "c241ca1d-6680-439d-acae-7a5cdd386d0d"
      },
      "execution_count": null,
      "outputs": [
        {
          "output_type": "stream",
          "name": "stdout",
          "text": [
            "Looking in indexes: https://pypi.org/simple, https://us-python.pkg.dev/colab-wheels/public/simple/\n",
            "Requirement already satisfied: textblob in /usr/local/lib/python3.7/dist-packages (0.15.3)\n",
            "Requirement already satisfied: nltk>=3.1 in /usr/local/lib/python3.7/dist-packages (from textblob) (3.7)\n",
            "Requirement already satisfied: tqdm in /usr/local/lib/python3.7/dist-packages (from nltk>=3.1->textblob) (4.64.0)\n",
            "Requirement already satisfied: click in /usr/local/lib/python3.7/dist-packages (from nltk>=3.1->textblob) (7.1.2)\n",
            "Requirement already satisfied: regex>=2021.8.3 in /usr/local/lib/python3.7/dist-packages (from nltk>=3.1->textblob) (2022.6.2)\n",
            "Requirement already satisfied: joblib in /usr/local/lib/python3.7/dist-packages (from nltk>=3.1->textblob) (1.1.0)\n"
          ]
        },
        {
          "output_type": "stream",
          "name": "stderr",
          "text": [
            "[nltk_data] Downloading package punkt to /root/nltk_data...\n",
            "[nltk_data]   Unzipping tokenizers/punkt.zip.\n"
          ]
        },
        {
          "output_type": "execute_result",
          "data": {
            "text/plain": [
              "True"
            ]
          },
          "metadata": {},
          "execution_count": 1
        }
      ]
    },
    {
      "cell_type": "code",
      "source": [
        "!python -m textblob.download_corpora"
      ],
      "metadata": {
        "colab": {
          "base_uri": "https://localhost:8080/"
        },
        "id": "eQz9kUnEhrIh",
        "outputId": "31cbeb36-9513-4b69-cff5-95bebaafdf64"
      },
      "execution_count": null,
      "outputs": [
        {
          "output_type": "stream",
          "name": "stdout",
          "text": [
            "[nltk_data] Downloading package brown to /root/nltk_data...\n",
            "[nltk_data]   Unzipping corpora/brown.zip.\n",
            "[nltk_data] Downloading package punkt to /root/nltk_data...\n",
            "[nltk_data]   Package punkt is already up-to-date!\n",
            "[nltk_data] Downloading package wordnet to /root/nltk_data...\n",
            "[nltk_data] Downloading package averaged_perceptron_tagger to\n",
            "[nltk_data]     /root/nltk_data...\n",
            "[nltk_data]   Unzipping taggers/averaged_perceptron_tagger.zip.\n",
            "[nltk_data] Downloading package conll2000 to /root/nltk_data...\n",
            "[nltk_data]   Unzipping corpora/conll2000.zip.\n",
            "[nltk_data] Downloading package movie_reviews to /root/nltk_data...\n",
            "[nltk_data]   Unzipping corpora/movie_reviews.zip.\n",
            "Finished.\n"
          ]
        }
      ]
    },
    {
      "cell_type": "markdown",
      "source": [
        "###Открываем и читаем файл с текстом"
      ],
      "metadata": {
        "id": "8Ome3AUbvjX7"
      }
    },
    {
      "cell_type": "code",
      "source": [
        "from textblob import TextBlob\n",
        "with open('text.txt') as f: #открываем и читаем файл через контекстный менеджер\n",
        "    text = f.read()"
      ],
      "metadata": {
        "id": "JqbHtKFAD78J"
      },
      "execution_count": null,
      "outputs": []
    },
    {
      "cell_type": "code",
      "source": [
        "print(text)"
      ],
      "metadata": {
        "colab": {
          "base_uri": "https://localhost:8080/"
        },
        "id": "Gv06f4_Xwo3Y",
        "outputId": "fed64eb3-29dc-4e72-e370-c9cd9a42784f"
      },
      "execution_count": null,
      "outputs": [
        {
          "output_type": "stream",
          "name": "stdout",
          "text": [
            "\"Dead Poets Society\" is a collection of pious platitudes masquerading as a courageous stand in favor of something: doing your own thing, I think. It's about an inspirational, unconventional English teacher and his students at \"the best prep school in America\" and how he challenges them to question conventional views by such techniques as standing on their desks. It is, of course, inevitable that the brilliant teacher will eventually be fired from the school, and when his students stood on their desks to protest his dismissal, I was so moved, I wanted to throw up.\n",
            "\n",
            "Peter Weir's film makes much noise about poetry, and there are brief quotations from Tennyson, Herrick, Whitman and even Vachel Lindsay, as well as a brave excursion into prose that takes us as far as Thoreau's Walden. None of these writers are studied, however, in a spirit that would lend respect to their language; they're simply plundered for slogans to exort the students toward more personal freedom. At the end of a great teacher's course in poetry, the students would love poetry; at the end of this teacher's semester, all they really love is the teacher.\n",
            "\n",
            "\n",
            "\n"
          ]
        }
      ]
    },
    {
      "cell_type": "markdown",
      "source": [
        "###Фильтр входной файловой строки: убираем пустые строки"
      ],
      "metadata": {
        "id": "RjwAcom_wa40"
      }
    },
    {
      "cell_type": "code",
      "source": [
        "text = text.split(\"\\n\") #делим файловую строку в список по символам переноса строки (разделили по линиям файла)\n",
        "text = [line for line in text if line != \"\"] #из искомой строки генерим список при условии \"непустых\" строк"
      ],
      "metadata": {
        "id": "g7fsaxP0FcsI"
      },
      "execution_count": null,
      "outputs": []
    },
    {
      "cell_type": "code",
      "source": [
        "print(text)"
      ],
      "metadata": {
        "colab": {
          "base_uri": "https://localhost:8080/"
        },
        "id": "weWMfJNqM9lS",
        "outputId": "a4eaa0e1-760c-4ade-f62e-badd808dbac5"
      },
      "execution_count": null,
      "outputs": [
        {
          "output_type": "stream",
          "name": "stdout",
          "text": [
            "['\"Dead Poets Society\" is a collection of pious platitudes masquerading as a courageous stand in favor of something: doing your own thing, I think. It\\'s about an inspirational, unconventional English teacher and his students at \"the best prep school in America\" and how he challenges them to question conventional views by such techniques as standing on their desks. It is, of course, inevitable that the brilliant teacher will eventually be fired from the school, and when his students stood on their desks to protest his dismissal, I was so moved, I wanted to throw up.', \"Peter Weir's film makes much noise about poetry, and there are brief quotations from Tennyson, Herrick, Whitman and even Vachel Lindsay, as well as a brave excursion into prose that takes us as far as Thoreau's Walden. None of these writers are studied, however, in a spirit that would lend respect to their language; they're simply plundered for slogans to exort the students toward more personal freedom. At the end of a great teacher's course in poetry, the students would love poetry; at the end of this teacher's semester, all they really love is the teacher.\"]\n"
          ]
        }
      ]
    },
    {
      "cell_type": "code",
      "source": [
        "lines = \"\" \n",
        "for line in text: #проходимся по списку \n",
        "      lines += line + \"\\n\" #заново добавляем символы переноса строки, где они должны быть"
      ],
      "metadata": {
        "id": "LncNZD2WFnAy"
      },
      "execution_count": null,
      "outputs": []
    },
    {
      "cell_type": "code",
      "source": [
        "text = lines\n",
        "print(text)"
      ],
      "metadata": {
        "colab": {
          "base_uri": "https://localhost:8080/"
        },
        "id": "amEyAq8QH4XM",
        "outputId": "f1a43f65-5f28-4af7-8353-f46fb2b0743e"
      },
      "execution_count": null,
      "outputs": [
        {
          "output_type": "stream",
          "name": "stdout",
          "text": [
            "\"Dead Poets Society\" is a collection of pious platitudes masquerading as a courageous stand in favor of something: doing your own thing, I think. It's about an inspirational, unconventional English teacher and his students at \"the best prep school in America\" and how he challenges them to question conventional views by such techniques as standing on their desks. It is, of course, inevitable that the brilliant teacher will eventually be fired from the school, and when his students stood on their desks to protest his dismissal, I was so moved, I wanted to throw up.\n",
            "Peter Weir's film makes much noise about poetry, and there are brief quotations from Tennyson, Herrick, Whitman and even Vachel Lindsay, as well as a brave excursion into prose that takes us as far as Thoreau's Walden. None of these writers are studied, however, in a spirit that would lend respect to their language; they're simply plundered for slogans to exort the students toward more personal freedom. At the end of a great teacher's course in poetry, the students would love poetry; at the end of this teacher's semester, all they really love is the teacher.\n",
            "\n"
          ]
        }
      ]
    },
    {
      "cell_type": "markdown",
      "source": [
        "###Подсчёт предложений в файле"
      ],
      "metadata": {
        "id": "O7vWbyfTHr5D"
      }
    },
    {
      "cell_type": "code",
      "source": [
        "blob = TextBlob(text) #create a textblob"
      ],
      "metadata": {
        "id": "v3N_3q9chmGv"
      },
      "execution_count": null,
      "outputs": []
    },
    {
      "cell_type": "code",
      "source": [
        "blob "
      ],
      "metadata": {
        "colab": {
          "base_uri": "https://localhost:8080/"
        },
        "id": "YX1vnSRvmDZt",
        "outputId": "3e9686aa-c02a-4e66-fa55-f4c1a5386829"
      },
      "execution_count": null,
      "outputs": [
        {
          "output_type": "execute_result",
          "data": {
            "text/plain": [
              "TextBlob(\"\"Dead Poets Society\" is a collection of pious platitudes masquerading as a courageous stand in favor of something: doing your own thing, I think. It's about an inspirational, unconventional English teacher and his students at \"the best prep school in America\" and how he challenges them to question conventional views by such techniques as standing on their desks. It is, of course, inevitable that the brilliant teacher will eventually be fired from the school, and when his students stood on their desks to protest his dismissal, I was so moved, I wanted to throw up.\n",
              "Peter Weir's film makes much noise about poetry, and there are brief quotations from Tennyson, Herrick, Whitman and even Vachel Lindsay, as well as a brave excursion into prose that takes us as far as Thoreau's Walden. None of these writers are studied, however, in a spirit that would lend respect to their language; they're simply plundered for slogans to exort the students toward more personal freedom. At the end of a great teacher's course in poetry, the students would love poetry; at the end of this teacher's semester, all they really love is the teacher.\n",
              "\")"
            ]
          },
          "metadata": {},
          "execution_count": 12
        }
      ]
    },
    {
      "cell_type": "code",
      "source": [
        "blob.sentences"
      ],
      "metadata": {
        "colab": {
          "base_uri": "https://localhost:8080/"
        },
        "id": "qoULftkelI0u",
        "outputId": "0efd9b21-8a6d-40c4-b052-bfb472326386"
      },
      "execution_count": null,
      "outputs": [
        {
          "output_type": "execute_result",
          "data": {
            "text/plain": [
              "[Sentence(\"\"Dead Poets Society\" is a collection of pious platitudes masquerading as a courageous stand in favor of something: doing your own thing, I think.\"),\n",
              " Sentence(\"It's about an inspirational, unconventional English teacher and his students at \"the best prep school in America\" and how he challenges them to question conventional views by such techniques as standing on their desks.\"),\n",
              " Sentence(\"It is, of course, inevitable that the brilliant teacher will eventually be fired from the school, and when his students stood on their desks to protest his dismissal, I was so moved, I wanted to throw up.\"),\n",
              " Sentence(\"Peter Weir's film makes much noise about poetry, and there are brief quotations from Tennyson, Herrick, Whitman and even Vachel Lindsay, as well as a brave excursion into prose that takes us as far as Thoreau's Walden.\"),\n",
              " Sentence(\"None of these writers are studied, however, in a spirit that would lend respect to their language; they're simply plundered for slogans to exort the students toward more personal freedom.\"),\n",
              " Sentence(\"At the end of a great teacher's course in poetry, the students would love poetry; at the end of this teacher's semester, all they really love is the teacher.\")]"
            ]
          },
          "metadata": {},
          "execution_count": 13
        }
      ]
    },
    {
      "cell_type": "code",
      "source": [
        "print(len(blob.sentences))"
      ],
      "metadata": {
        "colab": {
          "base_uri": "https://localhost:8080/"
        },
        "id": "4xLwvolMmnO5",
        "outputId": "42458b10-3e60-4996-93ab-fd4aa519ac1f"
      },
      "execution_count": null,
      "outputs": [
        {
          "output_type": "stream",
          "name": "stdout",
          "text": [
            "6\n"
          ]
        }
      ]
    },
    {
      "cell_type": "markdown",
      "source": [
        "##Часть 2. Топ-10 самых часто используемых слов в тексте"
      ],
      "metadata": {
        "id": "XJacnrsaRDFM"
      }
    },
    {
      "cell_type": "markdown",
      "source": [
        "Проверка спеллинга (наличия ошибок в словах файла) перед тем, как считать топ-10 самых используемых слов"
      ],
      "metadata": {
        "id": "V3y3QuVHi9KZ"
      }
    },
    {
      "cell_type": "code",
      "source": [
        "!python3 -m pip install pyaspeller"
      ],
      "metadata": {
        "colab": {
          "base_uri": "https://localhost:8080/"
        },
        "id": "Wt0Qo89BiO2P",
        "outputId": "9dadc76b-c82a-406a-b040-6937fd967616"
      },
      "execution_count": null,
      "outputs": [
        {
          "output_type": "stream",
          "name": "stdout",
          "text": [
            "Looking in indexes: https://pypi.org/simple, https://us-python.pkg.dev/colab-wheels/public/simple/\n",
            "Collecting pyaspeller\n",
            "  Downloading pyaspeller-0.2.3-py3-none-any.whl (12 kB)\n",
            "Collecting requests==2.27.1\n",
            "  Downloading requests-2.27.1-py2.py3-none-any.whl (63 kB)\n",
            "\u001b[K     |████████████████████████████████| 63 kB 1.3 MB/s \n",
            "\u001b[?25hRequirement already satisfied: certifi>=2017.4.17 in /usr/local/lib/python3.7/dist-packages (from requests==2.27.1->pyaspeller) (2022.6.15)\n",
            "Requirement already satisfied: idna<4,>=2.5 in /usr/local/lib/python3.7/dist-packages (from requests==2.27.1->pyaspeller) (2.10)\n",
            "Collecting charset-normalizer~=2.0.0\n",
            "  Downloading charset_normalizer-2.0.12-py3-none-any.whl (39 kB)\n",
            "Requirement already satisfied: urllib3<1.27,>=1.21.1 in /usr/local/lib/python3.7/dist-packages (from requests==2.27.1->pyaspeller) (1.24.3)\n",
            "Installing collected packages: charset-normalizer, requests, pyaspeller\n",
            "  Attempting uninstall: charset-normalizer\n",
            "    Found existing installation: charset-normalizer 2.1.0\n",
            "    Uninstalling charset-normalizer-2.1.0:\n",
            "      Successfully uninstalled charset-normalizer-2.1.0\n",
            "  Attempting uninstall: requests\n",
            "    Found existing installation: requests 2.23.0\n",
            "    Uninstalling requests-2.23.0:\n",
            "      Successfully uninstalled requests-2.23.0\n",
            "Successfully installed charset-normalizer-2.0.12 pyaspeller-0.2.3 requests-2.27.1\n"
          ]
        }
      ]
    },
    {
      "cell_type": "code",
      "source": [
        "text = lines"
      ],
      "metadata": {
        "id": "hlYS-FxAmBmf"
      },
      "execution_count": null,
      "outputs": []
    },
    {
      "cell_type": "code",
      "source": [
        "from pyaspeller import YandexSpeller\n",
        "speller = YandexSpeller()\n",
        "fixed = speller.spelled(text)"
      ],
      "metadata": {
        "id": "v6dKASdGirCh"
      },
      "execution_count": null,
      "outputs": []
    },
    {
      "cell_type": "code",
      "source": [
        "fixed "
      ],
      "metadata": {
        "colab": {
          "base_uri": "https://localhost:8080/",
          "height": 174
        },
        "id": "OfaVZm6Vj1j5",
        "outputId": "e3dc9e4d-4d8b-452a-93e9-06f168dce2b2"
      },
      "execution_count": null,
      "outputs": [
        {
          "output_type": "execute_result",
          "data": {
            "text/plain": [
              "'\"Dead Poets Society\" is a collection of pious platitudes masquerading as a courageous stand in favor of something: doing your own thing, I think. It\\'s about an inspirational, unconventional English teacher and his students at \"the best prep school in America\" and how he challenges them to question conventional views by such techniques as standing on their desks. It is, of course, inevitable that the brilliant teacher will eventually be fired from the school, and when his students stood on their desks to protest his dismissal, I was so moved, I wanted to throw up.\\nPeter Weir\\'s film makes much noise about poetry, and there are brief quotations from Tennyson, Herrick, Whitman and even Vachel Lindsay, as well as a brave excursion into prose that takes us as far as Thoreau\\'s Walden. None of these writers are studied, however, in a spirit that would lend respect to their language; they\\'re simply plundered for slogans to exort the students toward more personal freedom. At the end of a great teachers course in poetry, the students would love poetry; at the end of this teachers semester, all they really love is the teacher.\\n'"
            ],
            "application/vnd.google.colaboratory.intrinsic+json": {
              "type": "string"
            }
          },
          "metadata": {},
          "execution_count": 17
        }
      ]
    },
    {
      "cell_type": "markdown",
      "source": [
        "Проверка спеллинга слов на русском языке"
      ],
      "metadata": {
        "id": "PVZw9sPDmwzW"
      }
    },
    {
      "cell_type": "code",
      "source": [
        "fixed_rus = speller.spelled('''Прикрасная книга. Толстой выступает в роли танкого психолога: он раскрывает мотивы поступков героев, их души.\n",
        "Анна, которая так хотела жить, быть любимой, была несчасна в браке. Ее любовь к Вронскому перевернула ее жизнь. Но у каждого решения есть «две стороны медали». Анне пришлось принять разлуку с сыном и осуждение общества ради Вронского.\n",
        "Она бы все смогла вынести, но охлаждение чувств было вообще не сил. Нагнетающиеся мысли погубили ее''')"
      ],
      "metadata": {
        "id": "owQLtmkzjoAT"
      },
      "execution_count": null,
      "outputs": []
    },
    {
      "cell_type": "code",
      "source": [
        "fixed_rus"
      ],
      "metadata": {
        "colab": {
          "base_uri": "https://localhost:8080/",
          "height": 88
        },
        "id": "nsGF018RlEQ8",
        "outputId": "3df25a45-1a3f-4005-ed39-a4070149e289"
      },
      "execution_count": null,
      "outputs": [
        {
          "output_type": "execute_result",
          "data": {
            "text/plain": [
              "'Прекрасная книга. Толстой выступает в роли тонкого психолога: он раскрывает мотивы поступков героев, их души.\\nАнна, которая так хотела жить, быть любимой, была несчастна в браке. Ее любовь к Вронскому перевернула ее жизнь. Но у каждого решения есть «две стороны медали». Анне пришлось принять разлуку с сыном и осуждение общества ради Вронского.\\nОна бы все смогла вынести, но охлаждение чувств было вообще не сил. Нагнетающиеся мысли погубили ее'"
            ],
            "application/vnd.google.colaboratory.intrinsic+json": {
              "type": "string"
            }
          },
          "metadata": {},
          "execution_count": 19
        }
      ]
    },
    {
      "cell_type": "markdown",
      "source": [
        "Подготовка строки текста к счету повторений слов"
      ],
      "metadata": {
        "id": "mMee6yQum4Ra"
      }
    },
    {
      "cell_type": "code",
      "source": [
        "#text = lines\n",
        "print(text)"
      ],
      "metadata": {
        "colab": {
          "base_uri": "https://localhost:8080/"
        },
        "id": "7AAGsN601j5h",
        "outputId": "9f337e52-4e04-462a-eab6-b335c5e240ad"
      },
      "execution_count": null,
      "outputs": [
        {
          "output_type": "stream",
          "name": "stdout",
          "text": [
            "\"Dead Poets Society\" is a collection of pious platitudes masquerading as a courageous stand in favor of something: doing your own thing, I think. It's about an inspirational, unconventional English teacher and his students at \"the best prep school in America\" and how he challenges them to question conventional views by such techniques as standing on their desks. It is, of course, inevitable that the brilliant teacher will eventually be fired from the school, and when his students stood on their desks to protest his dismissal, I was so moved, I wanted to throw up.\n",
            "Peter Weir's film makes much noise about poetry, and there are brief quotations from Tennyson, Herrick, Whitman and even Vachel Lindsay, as well as a brave excursion into prose that takes us as far as Thoreau's Walden. None of these writers are studied, however, in a spirit that would lend respect to their language; they're simply plundered for slogans to exort the students toward more personal freedom. At the end of a great teacher's course in poetry, the students would love poetry; at the end of this teacher's semester, all they really love is the teacher.\n",
            "\n"
          ]
        }
      ]
    },
    {
      "cell_type": "code",
      "source": [
        "lower_text = text.lower()\n",
        "print(lower_text)"
      ],
      "metadata": {
        "colab": {
          "base_uri": "https://localhost:8080/"
        },
        "id": "B4Nx3r4O2InV",
        "outputId": "3426e39e-0321-42b0-f064-0e2402256981"
      },
      "execution_count": null,
      "outputs": [
        {
          "output_type": "stream",
          "name": "stdout",
          "text": [
            "\"dead poets society\" is a collection of pious platitudes masquerading as a courageous stand in favor of something: doing your own thing, i think. it's about an inspirational, unconventional english teacher and his students at \"the best prep school in america\" and how he challenges them to question conventional views by such techniques as standing on their desks. it is, of course, inevitable that the brilliant teacher will eventually be fired from the school, and when his students stood on their desks to protest his dismissal, i was so moved, i wanted to throw up.\n",
            "peter weir's film makes much noise about poetry, and there are brief quotations from tennyson, herrick, whitman and even vachel lindsay, as well as a brave excursion into prose that takes us as far as thoreau's walden. none of these writers are studied, however, in a spirit that would lend respect to their language; they're simply plundered for slogans to exort the students toward more personal freedom. at the end of a great teacher's course in poetry, the students would love poetry; at the end of this teacher's semester, all they really love is the teacher.\n",
            "\n"
          ]
        }
      ]
    },
    {
      "cell_type": "code",
      "source": [
        "#убираем всю пунктуацию из строки, чтобы нормально посчитать статистику слов\n",
        "import string\n",
        "\n",
        "no_punc_string = lower_text.translate(str.maketrans('', '', string.punctuation))"
      ],
      "metadata": {
        "id": "QYNN-9gV43qF"
      },
      "execution_count": null,
      "outputs": []
    },
    {
      "cell_type": "code",
      "source": [
        "no_punc_list = no_punc_string.split()"
      ],
      "metadata": {
        "id": "Z3-Wqdgo58AW"
      },
      "execution_count": null,
      "outputs": []
    },
    {
      "cell_type": "code",
      "source": [
        "print(no_punc_list)"
      ],
      "metadata": {
        "colab": {
          "base_uri": "https://localhost:8080/"
        },
        "id": "cfW77-P2BYyp",
        "outputId": "6480f4c3-79f1-499c-f378-770d16ddfbc5"
      },
      "execution_count": null,
      "outputs": [
        {
          "output_type": "stream",
          "name": "stdout",
          "text": [
            "['dead', 'poets', 'society', 'is', 'a', 'collection', 'of', 'pious', 'platitudes', 'masquerading', 'as', 'a', 'courageous', 'stand', 'in', 'favor', 'of', 'something', 'doing', 'your', 'own', 'thing', 'i', 'think', 'its', 'about', 'an', 'inspirational', 'unconventional', 'english', 'teacher', 'and', 'his', 'students', 'at', 'the', 'best', 'prep', 'school', 'in', 'america', 'and', 'how', 'he', 'challenges', 'them', 'to', 'question', 'conventional', 'views', 'by', 'such', 'techniques', 'as', 'standing', 'on', 'their', 'desks', 'it', 'is', 'of', 'course', 'inevitable', 'that', 'the', 'brilliant', 'teacher', 'will', 'eventually', 'be', 'fired', 'from', 'the', 'school', 'and', 'when', 'his', 'students', 'stood', 'on', 'their', 'desks', 'to', 'protest', 'his', 'dismissal', 'i', 'was', 'so', 'moved', 'i', 'wanted', 'to', 'throw', 'up', 'peter', 'weirs', 'film', 'makes', 'much', 'noise', 'about', 'poetry', 'and', 'there', 'are', 'brief', 'quotations', 'from', 'tennyson', 'herrick', 'whitman', 'and', 'even', 'vachel', 'lindsay', 'as', 'well', 'as', 'a', 'brave', 'excursion', 'into', 'prose', 'that', 'takes', 'us', 'as', 'far', 'as', 'thoreaus', 'walden', 'none', 'of', 'these', 'writers', 'are', 'studied', 'however', 'in', 'a', 'spirit', 'that', 'would', 'lend', 'respect', 'to', 'their', 'language', 'theyre', 'simply', 'plundered', 'for', 'slogans', 'to', 'exort', 'the', 'students', 'toward', 'more', 'personal', 'freedom', 'at', 'the', 'end', 'of', 'a', 'great', 'teachers', 'course', 'in', 'poetry', 'the', 'students', 'would', 'love', 'poetry', 'at', 'the', 'end', 'of', 'this', 'teachers', 'semester', 'all', 'they', 'really', 'love', 'is', 'the', 'teacher']\n"
          ]
        }
      ]
    },
    {
      "cell_type": "markdown",
      "source": [
        "При подсчёте слов не учла, что \"us\" как местоимение и \"US\" как страну питон посчитает как одно слово, после удаления верхнего регистра."
      ],
      "metadata": {
        "id": "9mJOcb39e18g"
      }
    },
    {
      "cell_type": "code",
      "source": [
        "count_words = {letter:no_punc_list.count(letter) for letter in no_punc_list}\n",
        "print(count_words)"
      ],
      "metadata": {
        "colab": {
          "base_uri": "https://localhost:8080/"
        },
        "id": "kIntiGtHBdRS",
        "outputId": "59830e18-8fc8-46da-fac0-0ae1723164d4"
      },
      "execution_count": null,
      "outputs": [
        {
          "output_type": "stream",
          "name": "stdout",
          "text": [
            "{'dead': 1, 'poets': 1, 'society': 1, 'is': 3, 'a': 5, 'collection': 1, 'of': 6, 'pious': 1, 'platitudes': 1, 'masquerading': 1, 'as': 6, 'courageous': 1, 'stand': 1, 'in': 4, 'favor': 1, 'something': 1, 'doing': 1, 'your': 1, 'own': 1, 'thing': 1, 'i': 3, 'think': 1, 'its': 1, 'about': 2, 'an': 1, 'inspirational': 1, 'unconventional': 1, 'english': 1, 'teacher': 3, 'and': 5, 'his': 3, 'students': 4, 'at': 3, 'the': 8, 'best': 1, 'prep': 1, 'school': 2, 'america': 1, 'how': 1, 'he': 1, 'challenges': 1, 'them': 1, 'to': 5, 'question': 1, 'conventional': 1, 'views': 1, 'by': 1, 'such': 1, 'techniques': 1, 'standing': 1, 'on': 2, 'their': 3, 'desks': 2, 'it': 1, 'course': 2, 'inevitable': 1, 'that': 3, 'brilliant': 1, 'will': 1, 'eventually': 1, 'be': 1, 'fired': 1, 'from': 2, 'when': 1, 'stood': 1, 'protest': 1, 'dismissal': 1, 'was': 1, 'so': 1, 'moved': 1, 'wanted': 1, 'throw': 1, 'up': 1, 'peter': 1, 'weirs': 1, 'film': 1, 'makes': 1, 'much': 1, 'noise': 1, 'poetry': 3, 'there': 1, 'are': 2, 'brief': 1, 'quotations': 1, 'tennyson': 1, 'herrick': 1, 'whitman': 1, 'even': 1, 'vachel': 1, 'lindsay': 1, 'well': 1, 'brave': 1, 'excursion': 1, 'into': 1, 'prose': 1, 'takes': 1, 'us': 1, 'far': 1, 'thoreaus': 1, 'walden': 1, 'none': 1, 'these': 1, 'writers': 1, 'studied': 1, 'however': 1, 'spirit': 1, 'would': 2, 'lend': 1, 'respect': 1, 'language': 1, 'theyre': 1, 'simply': 1, 'plundered': 1, 'for': 1, 'slogans': 1, 'exort': 1, 'toward': 1, 'more': 1, 'personal': 1, 'freedom': 1, 'end': 2, 'great': 1, 'teachers': 2, 'love': 2, 'this': 1, 'semester': 1, 'all': 1, 'they': 1, 'really': 1}\n"
          ]
        }
      ]
    },
    {
      "cell_type": "code",
      "source": [
        "count_words = {key:value for key, value in sorted(count_words.items(), key=lambda item:item[1], reverse=True)}\n"
      ],
      "metadata": {
        "id": "yfUnjRiLB9QB"
      },
      "execution_count": null,
      "outputs": []
    },
    {
      "cell_type": "code",
      "source": [
        "for key in count_words.items():\n",
        "    print(key)"
      ],
      "metadata": {
        "colab": {
          "base_uri": "https://localhost:8080/"
        },
        "id": "b7plofHUOFo7",
        "outputId": "6fcf406d-09a0-4e42-ccc4-77b36638582a"
      },
      "execution_count": null,
      "outputs": [
        {
          "output_type": "stream",
          "name": "stdout",
          "text": [
            "('the', 8)\n",
            "('of', 6)\n",
            "('as', 6)\n",
            "('a', 5)\n",
            "('and', 5)\n",
            "('to', 5)\n",
            "('in', 4)\n",
            "('students', 4)\n",
            "('is', 3)\n",
            "('i', 3)\n",
            "('teacher', 3)\n",
            "('his', 3)\n",
            "('at', 3)\n",
            "('their', 3)\n",
            "('that', 3)\n",
            "('poetry', 3)\n",
            "('about', 2)\n",
            "('school', 2)\n",
            "('on', 2)\n",
            "('desks', 2)\n",
            "('course', 2)\n",
            "('from', 2)\n",
            "('are', 2)\n",
            "('would', 2)\n",
            "('end', 2)\n",
            "('teachers', 2)\n",
            "('love', 2)\n",
            "('dead', 1)\n",
            "('poets', 1)\n",
            "('society', 1)\n",
            "('collection', 1)\n",
            "('pious', 1)\n",
            "('platitudes', 1)\n",
            "('masquerading', 1)\n",
            "('courageous', 1)\n",
            "('stand', 1)\n",
            "('favor', 1)\n",
            "('something', 1)\n",
            "('doing', 1)\n",
            "('your', 1)\n",
            "('own', 1)\n",
            "('thing', 1)\n",
            "('think', 1)\n",
            "('its', 1)\n",
            "('an', 1)\n",
            "('inspirational', 1)\n",
            "('unconventional', 1)\n",
            "('english', 1)\n",
            "('best', 1)\n",
            "('prep', 1)\n",
            "('america', 1)\n",
            "('how', 1)\n",
            "('he', 1)\n",
            "('challenges', 1)\n",
            "('them', 1)\n",
            "('question', 1)\n",
            "('conventional', 1)\n",
            "('views', 1)\n",
            "('by', 1)\n",
            "('such', 1)\n",
            "('techniques', 1)\n",
            "('standing', 1)\n",
            "('it', 1)\n",
            "('inevitable', 1)\n",
            "('brilliant', 1)\n",
            "('will', 1)\n",
            "('eventually', 1)\n",
            "('be', 1)\n",
            "('fired', 1)\n",
            "('when', 1)\n",
            "('stood', 1)\n",
            "('protest', 1)\n",
            "('dismissal', 1)\n",
            "('was', 1)\n",
            "('so', 1)\n",
            "('moved', 1)\n",
            "('wanted', 1)\n",
            "('throw', 1)\n",
            "('up', 1)\n",
            "('peter', 1)\n",
            "('weirs', 1)\n",
            "('film', 1)\n",
            "('makes', 1)\n",
            "('much', 1)\n",
            "('noise', 1)\n",
            "('there', 1)\n",
            "('brief', 1)\n",
            "('quotations', 1)\n",
            "('tennyson', 1)\n",
            "('herrick', 1)\n",
            "('whitman', 1)\n",
            "('even', 1)\n",
            "('vachel', 1)\n",
            "('lindsay', 1)\n",
            "('well', 1)\n",
            "('brave', 1)\n",
            "('excursion', 1)\n",
            "('into', 1)\n",
            "('prose', 1)\n",
            "('takes', 1)\n",
            "('us', 1)\n",
            "('far', 1)\n",
            "('thoreaus', 1)\n",
            "('walden', 1)\n",
            "('none', 1)\n",
            "('these', 1)\n",
            "('writers', 1)\n",
            "('studied', 1)\n",
            "('however', 1)\n",
            "('spirit', 1)\n",
            "('lend', 1)\n",
            "('respect', 1)\n",
            "('language', 1)\n",
            "('theyre', 1)\n",
            "('simply', 1)\n",
            "('plundered', 1)\n",
            "('for', 1)\n",
            "('slogans', 1)\n",
            "('exort', 1)\n",
            "('toward', 1)\n",
            "('more', 1)\n",
            "('personal', 1)\n",
            "('freedom', 1)\n",
            "('great', 1)\n",
            "('this', 1)\n",
            "('semester', 1)\n",
            "('all', 1)\n",
            "('they', 1)\n",
            "('really', 1)\n"
          ]
        }
      ]
    },
    {
      "cell_type": "markdown",
      "source": [
        "###Топ-10 по популярности слов\n",
        "1 случай: просто получили первые 10 самых и слов"
      ],
      "metadata": {
        "id": "v-u-41_SVUti"
      }
    },
    {
      "cell_type": "code",
      "source": [
        "#не учитываем равное количество вхождений слова в текст, просто печатаем первые 10 по популярности\n",
        "k = 0\n",
        "top_words = []\n",
        "for key in count_words.items():\n",
        "    top_words.append(key)\n",
        "    k += 1\n",
        "    if k > 9:\n",
        "      break\n",
        "\n",
        "print(*top_words, sep='\\n')"
      ],
      "metadata": {
        "colab": {
          "base_uri": "https://localhost:8080/"
        },
        "id": "xgOwxL1J8bYj",
        "outputId": "781f851f-9903-4355-cfc8-91ef4e1b8017"
      },
      "execution_count": null,
      "outputs": [
        {
          "output_type": "stream",
          "name": "stdout",
          "text": [
            "('the', 8)\n",
            "('of', 6)\n",
            "('as', 6)\n",
            "('a', 5)\n",
            "('and', 5)\n",
            "('to', 5)\n",
            "('in', 4)\n",
            "('students', 4)\n",
            "('is', 3)\n",
            "('i', 3)\n"
          ]
        }
      ]
    },
    {
      "cell_type": "markdown",
      "source": [
        "###2 случай: Топ-10 по популярности слов"
      ],
      "metadata": {
        "id": "wJJQV6sGTBRL"
      }
    },
    {
      "cell_type": "code",
      "source": [
        "#учитываем равное количество вхождений слова в текст, и считаем такие случаи за одно слово\n",
        "\n",
        "k = 0\n",
        "words = []\n",
        "for key in count_words.items():\n",
        "    words.append(key)\n",
        "\n",
        "final_top = []\n",
        "\n",
        "for idx in range(len(words)):\n",
        "  final_top.append(words[idx])\n",
        "  for nidx in range(idx + 1,len(words)):\n",
        "    if words[idx][1] == words[nidx][1]: #потому что это как бы за одно слово считаем\n",
        "      pass\n",
        "    else:\n",
        "      k +=1\n",
        "    if k > 9:\n",
        "      break\n",
        "    \n",
        "print(*final_top[:k], sep='\\n')"
      ],
      "metadata": {
        "colab": {
          "base_uri": "https://localhost:8080/"
        },
        "id": "gn8x55NiLxGY",
        "outputId": "69955383-342f-4237-de38-116500801778"
      },
      "execution_count": null,
      "outputs": [
        {
          "output_type": "stream",
          "name": "stdout",
          "text": [
            "('the', 8)\n",
            "('of', 6)\n",
            "('as', 6)\n",
            "('a', 5)\n",
            "('and', 5)\n",
            "('to', 5)\n",
            "('in', 4)\n",
            "('students', 4)\n",
            "('is', 3)\n",
            "('i', 3)\n",
            "('teacher', 3)\n",
            "('his', 3)\n",
            "('at', 3)\n",
            "('their', 3)\n",
            "('that', 3)\n"
          ]
        }
      ]
    },
    {
      "cell_type": "markdown",
      "source": [
        "##Часть 3: Считаем долю личных местоимений в тексте"
      ],
      "metadata": {
        "id": "gbGbjHXMZIbe"
      }
    },
    {
      "cell_type": "code",
      "source": [
        "print(text)"
      ],
      "metadata": {
        "colab": {
          "base_uri": "https://localhost:8080/"
        },
        "id": "Qp5cyqoccu_t",
        "outputId": "cd8ae7b8-fd55-4c09-9a2a-100360b568fd"
      },
      "execution_count": null,
      "outputs": [
        {
          "output_type": "stream",
          "name": "stdout",
          "text": [
            "\"Dead Poets Society\" is a collection of pious platitudes masquerading as a courageous stand in favor of something: doing your own thing, I think. It's about an inspirational, unconventional English teacher and his students at \"the best prep school in America\" and how he challenges them to question conventional views by such techniques as standing on their desks. It is, of course, inevitable that the brilliant teacher will eventually be fired from the school, and when his students stood on their desks to protest his dismissal, I was so moved, I wanted to throw up.\n",
            "Peter Weir's film makes much noise about poetry, and there are brief quotations from Tennyson, Herrick, Whitman and even Vachel Lindsay, as well as a brave excursion into prose that takes us as far as Thoreau's Walden. None of these writers are studied, however, in a spirit that would lend respect to their language; they're simply plundered for slogans to exort the students toward more personal freedom. At the end of a great teacher's course in poetry, the students would love poetry; at the end of this teacher's semester, all they really love is the teacher.\n",
            "\n"
          ]
        }
      ]
    },
    {
      "cell_type": "code",
      "source": [
        "import re\n",
        "\n",
        "pronounRegex = re.compile(r'I|he|she|it|you|we|they|her|me|him|them|(?-i:us)',re.I)\n",
        "pronouns = pronounRegex.findall(text)\n",
        "#print(pronouns)\n",
        "print(round(len(pronouns)/len(text), 2))"
      ],
      "metadata": {
        "colab": {
          "base_uri": "https://localhost:8080/"
        },
        "id": "aZUQQR7obxLt",
        "outputId": "fbca0614-a4eb-4ca8-d4f2-fd5767ffed60"
      },
      "execution_count": null,
      "outputs": [
        {
          "output_type": "stream",
          "name": "stdout",
          "text": [
            "['i', 'i', 'i', 'i', 'us', 'i', 'i', 'us', 'i', 'me', 'i', 'i', 'you', 'i', 'I', 'i', 'I', 'i', 'i', 'i', 'i', 'i', 'he', 'i', 'he', 'i', 'me', 'i', 'he', 'them', 'i', 'i', 'i', 'i', 'i', 'he', 'i', 'I', 'i', 'i', 'i', 'he', 'i', 'i', 'he', 'i', 'i', 'he', 'he', 'i', 'he', 'i', 'i', 'i', 'i', 'I', 'I', 'We', 'i', 'i', 'i', 'he', 'i', 'i', 'He', 'i', 'i', 'he', 'i', 'we', 'i', 'i', 'us', 'he', 'i', 'i', 'we', 'i', 'i', 'i', 'he', 'i', 'they', 'i', 'he', 'he', 'he', 'i', 'he', 'he', 'i', 'he', 'me', 'they', 'i', 'he', 'he']\n",
            "0.09\n"
          ]
        }
      ]
    }
  ]
}